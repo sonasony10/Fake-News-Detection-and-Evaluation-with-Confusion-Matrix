{
  "nbformat": 4,
  "nbformat_minor": 0,
  "metadata": {
    "colab": {
      "provenance": []
    },
    "kernelspec": {
      "name": "python3",
      "display_name": "Python 3"
    },
    "language_info": {
      "name": "python"
    }
  },
  "cells": [
    {
      "cell_type": "markdown",
      "source": [
        "Q10. Load that saved model in another Notebook use it on other dataset for fake news detection."
      ],
      "metadata": {
        "id": "9VnQJQdeA3cS"
      }
    },
    {
      "cell_type": "code",
      "source": [
        "!pip install gensim\n"
      ],
      "metadata": {
        "colab": {
          "base_uri": "https://localhost:8080/"
        },
        "id": "JWWw9GumRM9m",
        "outputId": "9e5bd25b-9160-41a5-e77e-6babf103f1d6"
      },
      "execution_count": 1,
      "outputs": [
        {
          "output_type": "stream",
          "name": "stdout",
          "text": [
            "Requirement already satisfied: gensim in /usr/local/lib/python3.12/dist-packages (4.3.3)\n",
            "Requirement already satisfied: numpy<2.0,>=1.18.5 in /usr/local/lib/python3.12/dist-packages (from gensim) (1.26.4)\n",
            "Requirement already satisfied: scipy<1.14.0,>=1.7.0 in /usr/local/lib/python3.12/dist-packages (from gensim) (1.13.1)\n",
            "Requirement already satisfied: smart-open>=1.8.1 in /usr/local/lib/python3.12/dist-packages (from gensim) (7.3.0.post1)\n",
            "Requirement already satisfied: wrapt in /usr/local/lib/python3.12/dist-packages (from smart-open>=1.8.1->gensim) (1.17.3)\n"
          ]
        }
      ]
    },
    {
      "cell_type": "code",
      "source": [
        "import os\n",
        "import pickle\n",
        "import numpy as np\n",
        "from gensim.models import Word2Vec   # required for unpickling\n",
        "\n",
        "# Define folder path and filenames\n",
        "folder_path = '/content/drive/My Drive/IDEAS-TIH/Internship_2025'\n",
        "filename_rf = os.path.join(folder_path, 'random_forest_w2v_model.pickle')\n",
        "filename_w2v = os.path.join(folder_path, 'word2vec_model.pickle')\n",
        "\n",
        "# Load Random Forest model\n",
        "with open(filename_rf, 'rb') as file:\n",
        "    rf_clf = pickle.load(file)\n",
        "\n",
        "# Load Word2Vec model\n",
        "with open(filename_w2v, 'rb') as file:\n",
        "    w2v_model = pickle.load(file)\n",
        "\n",
        "print(\"✅ Random Forest and Word2Vec models loaded successfully!\")\n",
        "\n",
        "# Function to vectorize new text using Word2Vec\n",
        "def vectorize(sentence):\n",
        "    words = sentence.lower().split()  # simple preprocessing\n",
        "    vecs = [w2v_model.wv[word] for word in words if word in w2v_model.wv]\n",
        "    if len(vecs) == 0:\n",
        "        return np.zeros(w2v_model.vector_size)\n",
        "    return np.mean(vecs, axis=0)\n"
      ],
      "metadata": {
        "colab": {
          "base_uri": "https://localhost:8080/"
        },
        "id": "NuJyIHsHRZ8R",
        "outputId": "029f7c13-49ed-4990-98aa-f95a9f0586de"
      },
      "execution_count": 2,
      "outputs": [
        {
          "output_type": "stream",
          "name": "stdout",
          "text": [
            "✅ Random Forest and Word2Vec models loaded successfully!\n"
          ]
        }
      ]
    },
    {
      "cell_type": "code",
      "source": [
        "import pandas as pd\n",
        "\n",
        "# Load new datasets\n",
        "fake_news_df = pd.read_csv('/content/drive/MyDrive/IDEAS-TIH/Internship_2025/BuzzFeed_fake_news_content.csv')\n",
        "real_news_df = pd.read_csv('/content/drive/MyDrive/IDEAS-TIH/Internship_2025/BuzzFeed_real_news_content.csv')\n",
        "\n",
        "# Add labels: 0 = fake, 1 = true\n",
        "fake_news_df['label'] = 0\n",
        "real_news_df['label'] = 1\n",
        "\n",
        "# Combine datasets\n",
        "news_data = pd.concat([fake_news_df, real_news_df], axis=0).reset_index(drop=True)\n",
        "\n",
        "# Features and target\n",
        "X_new = news_data['text']\n",
        "y_new = news_data['label']\n"
      ],
      "metadata": {
        "id": "yH32_VHEyo2x"
      },
      "execution_count": 9,
      "outputs": []
    },
    {
      "cell_type": "code",
      "source": [
        "import re\n",
        "\n",
        "def preprocess(text):\n",
        "    text = str(text).lower()\n",
        "    text = re.sub(r'https?://\\S+|www\\.\\S+', '', text)  # remove URLs\n",
        "    text = re.sub(r'[^\\w]', ' ', text)  # remove special characters\n",
        "    text = re.sub(r'\\s+', ' ', text)  # remove multiple spaces\n",
        "    return text\n",
        "\n",
        "X_new = X_new.apply(preprocess)\n"
      ],
      "metadata": {
        "id": "pcXlmwQ9yozl"
      },
      "execution_count": 4,
      "outputs": []
    },
    {
      "cell_type": "code",
      "source": [
        "def vectorize(sentence):\n",
        "    words = sentence.split()\n",
        "    vecs = [w2v_model.wv[word] for word in words if word in w2v_model.wv]\n",
        "    if len(vecs) == 0:\n",
        "        return np.zeros(w2v_model.vector_size)\n",
        "    return np.mean(vecs, axis=0)\n",
        "\n",
        "# Convert all new texts to vectors\n",
        "X_new_w2v = np.array([vectorize(text) for text in X_new])\n"
      ],
      "metadata": {
        "id": "HwmvW4vbyow4"
      },
      "execution_count": 5,
      "outputs": []
    },
    {
      "cell_type": "code",
      "source": [
        "from sklearn.metrics import accuracy_score, precision_score, recall_score, f1_score, classification_report, confusion_matrix, ConfusionMatrixDisplay\n",
        "import matplotlib.pyplot as plt\n",
        "\n",
        "# Predict on new dataset\n",
        "y_new_pred = rf_clf.predict(X_new_w2v)\n",
        "\n",
        "# Metrics\n",
        "accuracy = accuracy_score(y_new, y_new_pred)\n",
        "precision = precision_score(y_new, y_new_pred)\n",
        "recall = recall_score(y_new, y_new_pred)\n",
        "f1 = f1_score(y_new, y_new_pred)\n",
        "\n",
        "print(\"Accuracy:\", accuracy)\n",
        "print(\"Precision:\", precision)\n",
        "print(\"Recall:\", recall)\n",
        "print(\"F1 Score:\", f1)\n",
        "print(\"\\nClassification Report:\\n\", classification_report(y_new, y_new_pred))\n",
        "\n"
      ],
      "metadata": {
        "colab": {
          "base_uri": "https://localhost:8080/"
        },
        "id": "rHeBpVn1y1bu",
        "outputId": "802b6fb1-e0f4-4d69-a28c-d6663439c69b"
      },
      "execution_count": 6,
      "outputs": [
        {
          "output_type": "stream",
          "name": "stdout",
          "text": [
            "Accuracy: 0.5494505494505495\n",
            "Precision: 0.7368421052631579\n",
            "Recall: 0.15384615384615385\n",
            "F1 Score: 0.2545454545454545\n",
            "\n",
            "Classification Report:\n",
            "               precision    recall  f1-score   support\n",
            "\n",
            "           0       0.53      0.95      0.68        91\n",
            "           1       0.74      0.15      0.25        91\n",
            "\n",
            "    accuracy                           0.55       182\n",
            "   macro avg       0.63      0.55      0.47       182\n",
            "weighted avg       0.63      0.55      0.47       182\n",
            "\n"
          ]
        }
      ]
    },
    {
      "cell_type": "code",
      "source": [
        "# Confusion Matrix\n",
        "cm = confusion_matrix(y_new, y_new_pred)\n",
        "disp = ConfusionMatrixDisplay(confusion_matrix=cm, display_labels=[\"Fake\", \"True\"])\n",
        "\n",
        "# Plot\n",
        "disp.plot(cmap=\"Blues\")\n",
        "plt.title(\"Confusion Matrix - Random Forest (Word2Vec)\")\n",
        "plt.show()\n",
        "\n"
      ],
      "metadata": {
        "colab": {
          "base_uri": "https://localhost:8080/",
          "height": 472
        },
        "id": "0YbRgT6my1YP",
        "outputId": "c53cfab5-cc05-48de-bd35-c982ba37cf10"
      },
      "execution_count": 7,
      "outputs": [
        {
          "output_type": "display_data",
          "data": {
            "text/plain": [
              "<Figure size 640x480 with 2 Axes>"
            ],
            "image/png": "[encoded data removed]"
          },
          "metadata": {}
        }
      ]
    },
    {
      "cell_type": "markdown",
      "source": [
        "Q11(Optional).\n",
        "\n",
        "Try to enhance the model's accuracy by using adaboost or any other boosting methods.\n",
        "<br>Use TF-IDF or any other vectorizer instead of Word2Vec and study how much it affects on model's accuracy."
      ],
      "metadata": {
        "id": "MlvGsPkWT-PL"
      }
    },
    {
      "cell_type": "code",
      "source": [
        "import pandas as pd\n",
        "from sklearn.model_selection import train_test_split\n",
        "from sklearn.feature_extraction.text import TfidfVectorizer\n",
        "from sklearn.metrics import accuracy_score, classification_report, confusion_matrix\n",
        "import matplotlib.pyplot as plt\n",
        "import seaborn as sns\n",
        "\n",
        "# Boosting models\n",
        "from sklearn.ensemble import AdaBoostClassifier, GradientBoostingClassifier\n",
        "from xgboost import XGBClassifier\n"
      ],
      "metadata": {
        "id": "cZW3yGrcS1CQ"
      },
      "execution_count": 10,
      "outputs": []
    },
    {
      "cell_type": "code",
      "source": [
        "df_fake = pd.read_csv(\"/content/drive/MyDrive/IDEAS-TIH/Internship_2025/BuzzFeed_fake_news_content.csv\")\n",
        "df_true = pd.read_csv(\"/content/drive/MyDrive/IDEAS-TIH/Internship_2025/BuzzFeed_real_news_content.csv\")\n",
        "\n",
        "print(\"Fake dataset shape:\", df_fake.shape)\n",
        "print(\"True dataset shape:\", df_true.shape)\n",
        "\n",
        "\n"
      ],
      "metadata": {
        "colab": {
          "base_uri": "https://localhost:8080/"
        },
        "id": "5BGXYd3hS1Wc",
        "outputId": "a3e1d94a-454c-45b7-d4ba-724a8a069950"
      },
      "execution_count": 19,
      "outputs": [
        {
          "output_type": "stream",
          "name": "stdout",
          "text": [
            "Fake dataset shape: (91, 12)\n",
            "True dataset shape: (91, 12)\n"
          ]
        }
      ]
    },
    {
      "cell_type": "code",
      "source": [
        "#add labels\n",
        "df_fake['label'] = 1   # Fake = 1\n",
        "df_true['label'] = 0   # True = 0\n",
        "\n",
        "#combine and shuffle\n",
        "df = pd.concat([df_fake, df_true], axis=0)\n",
        "df = df.sample(frac=1, random_state=42).reset_index(drop=True)  # shuffle\n",
        "\n",
        "print(df.head())          # check first few rows\n",
        "print(df['label'].value_counts())  # check balance\n",
        "print(df.columns)         # check actual column names\n",
        "\n"
      ],
      "metadata": {
        "colab": {
          "base_uri": "https://localhost:8080/"
        },
        "id": "KgT2qGaZUdTo",
        "outputId": "a5deda01-cbaa-4ee1-82d7-32c572d363d9"
      },
      "execution_count": 22,
      "outputs": [
        {
          "output_type": "stream",
          "name": "stdout",
          "text": [
            "                id                                              title  \\\n",
            "0  Fake_27-Webpage  How Democrats are Going to Try to STEAL the El...   \n",
            "1  Fake_48-Webpage  Tebow DISMANTLES national anthem protests in o...   \n",
            "2  Real_67-Webpage  Terrorist Attacks Will Likely Affect 2016 Pres...   \n",
            "3  Real_16-Webpage  Young Girl's Emotional Council Speech Laments ...   \n",
            "4   Real_6-Webpage                      Obama weighs in on the debate   \n",
            "\n",
            "                                                text  \\\n",
            "0  In every state there is a law governing the me...   \n",
            "1  20.1k SHARES Facebook Twitter\\n\\nWhat do Tim T...   \n",
            "2  The recent connected bombings in New York and ...   \n",
            "3  Peaceful protesters crowded Charlotte's first ...   \n",
            "4  Obama weighs in on the debate\\n\\nPresident Bar...   \n",
            "\n",
            "                                                 url  \\\n",
            "0  http://eaglerising.com/37044/how-democrats-are...   \n",
            "1  http://freedomdaily.com/tebow-dismantles-natio...   \n",
            "2                             http://abcn.ws/2cDjJ92   \n",
            "3                             http://abcn.ws/2cTj7ap   \n",
            "4                           http://politi.co/2dpdeXp   \n",
            "\n",
            "                                             top_img  \\\n",
            "0  http://eaglerising.com/wp-content/uploads/2016...   \n",
            "1  http://freedomdaily.com/wp-content/uploads/201...   \n",
            "2  http://a.abcnews.com/images/US/AP_Explosion3_m...   \n",
            "3  http://a.abcnews.com/images/US/AP_Charlotte_Po...   \n",
            "4  http://v.politico.com/images/1155968404/201609...   \n",
            "\n",
            "                       authors                   source  \\\n",
            "0  View All Posts,Dale Summitt   http://eaglerising.com   \n",
            "1                          NaN  http://freedomdaily.com   \n",
            "2         More Meghan,Abc News           http://abcn.ws   \n",
            "3        More Michael,Abc News           http://abcn.ws   \n",
            "4    Brianna Ehley,Jack Shafer         http://politi.co   \n",
            "\n",
            "               publish_date movies  \\\n",
            "0  {'$date': 1474874132000}    NaN   \n",
            "1  {'$date': 1474577949000}    NaN   \n",
            "2                       NaN    NaN   \n",
            "3                       NaN    NaN   \n",
            "4  {'$date': 1474984149000}    NaN   \n",
            "\n",
            "                                              images  \\\n",
            "0  http://constitution.com/wp-content/uploads/201...   \n",
            "1  http://1csabj4ddrd61fgqez2e4nss.wpengine.netdn...   \n",
            "2  http://a.abcnews.com/images/US/AP_Manhattan_Ex...   \n",
            "3  http://a.abcnews.com/images/US/AP_Charlotte_Po...   \n",
            "4  http://v.politico.com/images/1155968404/201609...   \n",
            "\n",
            "                                      canonical_link  \\\n",
            "0  http://eaglerising.com/37044/how-democrats-are...   \n",
            "1  http://freedomdaily.com/tebow-dismantles-natio...   \n",
            "2  http://abcnews.go.com/Politics/terrorist-attac...   \n",
            "3  http://abcnews.go.com/US/young-girls-emotional...   \n",
            "4  http://www.politico.com/story/2016/09/trump-de...   \n",
            "\n",
            "                                           meta_data  label  \n",
            "0  {\"description\": \"The Democratic Party not only...      1  \n",
            "1  {\"googlebot\": \"noimageindex\", \"generator\": \"Po...      1  \n",
            "2  {\"fb_title\": \"Terrorist Attacks Likely to Affe...      0  \n",
            "3  {\"fb_title\": \"Young Girl's Emotional Speech La...      0  \n",
            "4  {\"description\": \"Obama touted Clinton\\u2019s p...      0  \n",
            "label\n",
            "1    91\n",
            "0    91\n",
            "Name: count, dtype: int64\n",
            "Index(['id', 'title', 'text', 'url', 'top_img', 'authors', 'source',\n",
            "       'publish_date', 'movies', 'images', 'canonical_link', 'meta_data',\n",
            "       'label'],\n",
            "      dtype='object')\n"
          ]
        }
      ]
    },
    {
      "cell_type": "code",
      "source": [
        "#Pick the correct text column\n",
        "X = df['text']\n",
        "y = df['label']\n",
        "#split new dataset\n",
        "x_train, x_test, y_train, y_test = train_test_split(X, y, test_size=0.2, random_state=42, stratify=y)"
      ],
      "metadata": {
        "id": "XQF_0ZD5Vl2I"
      },
      "execution_count": 25,
      "outputs": []
    },
    {
      "cell_type": "code",
      "source": [
        "#Vectorize with TF-IDF\n",
        "vectorizer = TfidfVectorizer(stop_words='english', max_features=5000)\n",
        "x_train_tfidf = vectorizer.fit_transform(x_train)\n",
        "x_test_tfidf = vectorizer.transform(x_test)\n"
      ],
      "metadata": {
        "id": "ou1r6niaWEqs"
      },
      "execution_count": 26,
      "outputs": []
    },
    {
      "cell_type": "code",
      "source": [
        "#Train boosting models\n",
        "\n",
        "\n",
        "#adaboost\n",
        "\n",
        "ada_clf = AdaBoostClassifier(n_estimators=200, random_state=42)\n",
        "ada_clf.fit(x_train_tfidf, y_train)\n",
        "y_pred_ada = ada_clf.predict(x_test_tfidf)\n",
        "\n",
        "print(\"🔹 AdaBoost Results:\")\n",
        "print(\"Accuracy:\", accuracy_score(y_test, y_pred_ada))\n",
        "print(classification_report(y_test, y_pred_ada))\n",
        "\n",
        "#Gradient Boosting\n",
        "\n",
        "gb_clf = GradientBoostingClassifier(n_estimators=200, random_state=42)\n",
        "gb_clf.fit(x_train_tfidf, y_train)\n",
        "y_pred_gb = gb_clf.predict(x_test_tfidf)\n",
        "\n",
        "print(\"🔹 Gradient Boosting Results:\")\n",
        "print(\"Accuracy:\", accuracy_score(y_test, y_pred_gb))\n",
        "print(classification_report(y_test, y_pred_gb))\n",
        "\n"
      ],
      "metadata": {
        "colab": {
          "base_uri": "https://localhost:8080/"
        },
        "id": "4DelsZgnWK0A",
        "outputId": "bad70492-ed77-41eb-f4b1-b3f5af7197f7"
      },
      "execution_count": 28,
      "outputs": [
        {
          "output_type": "stream",
          "name": "stdout",
          "text": [
            "🔹 AdaBoost Results:\n",
            "Accuracy: 0.6756756756756757\n",
            "              precision    recall  f1-score   support\n",
            "\n",
            "           0       0.71      0.63      0.67        19\n",
            "           1       0.65      0.72      0.68        18\n",
            "\n",
            "    accuracy                           0.68        37\n",
            "   macro avg       0.68      0.68      0.68        37\n",
            "weighted avg       0.68      0.68      0.68        37\n",
            "\n",
            "🔹 Gradient Boosting Results:\n",
            "Accuracy: 0.7567567567567568\n",
            "              precision    recall  f1-score   support\n",
            "\n",
            "           0       0.81      0.68      0.74        19\n",
            "           1       0.71      0.83      0.77        18\n",
            "\n",
            "    accuracy                           0.76        37\n",
            "   macro avg       0.76      0.76      0.76        37\n",
            "weighted avg       0.76      0.76      0.76        37\n",
            "\n"
          ]
        }
      ]
    },
    {
      "cell_type": "code",
      "source": [
        "# Confusion matrix for AdaBoost\n",
        "cm_ada = confusion_matrix(y_test, y_pred_ada)\n",
        "plt.figure(figsize=(6,4))\n",
        "sns.heatmap(cm_ada, annot=True, fmt='d', cmap='Blues', xticklabels=[\"Real\", \"Fake\"], yticklabels=[\"Real\", \"Fake\"])\n",
        "plt.xlabel(\"Predicted\")\n",
        "plt.ylabel(\"Actual\")\n",
        "plt.title(\"Confusion Matrix - AdaBoost\")\n",
        "plt.show()\n",
        "\n",
        "# Confusion matrix for Gradient Boosting\n",
        "cm_gb = confusion_matrix(y_test, y_pred_gb)\n",
        "plt.figure(figsize=(6,4))\n",
        "sns.heatmap(cm_gb, annot=True, fmt='d', cmap='Greens', xticklabels=[\"Real\", \"Fake\"], yticklabels=[\"Real\", \"Fake\"])\n",
        "plt.xlabel(\"Predicted\")\n",
        "plt.ylabel(\"Actual\")\n",
        "plt.title(\"Confusion Matrix - Gradient Boosting\")\n",
        "plt.show()\n",
        "\n"
      ],
      "metadata": {
        "colab": {
          "base_uri": "https://localhost:8080/",
          "height": 803
        },
        "id": "w2pRuErDWRyI",
        "outputId": "59b64682-b87f-447c-9e85-adf8e9818caf"
      },
      "execution_count": 30,
      "outputs": [
        {
          "output_type": "display_data",
          "data": {
            "text/plain": [
              "<Figure size 600x400 with 2 Axes>"
            ],
            "image/png": "[encoded data removed]"
          },
          "metadata": {}
        },
        {
          "output_type": "display_data",
          "data": {
            "text/plain": [
              "<Figure size 600x400 with 2 Axes>"
            ],
            "image/png": "[encoded data removed]"
          },
          "metadata": {}
        }
      ]
    },
    {
      "cell_type": "code",
      "source": [],
      "metadata": {
        "id": "0yrxWVq8WmWl"
      },
      "execution_count": null,
      "outputs": []
    }
  ]
}